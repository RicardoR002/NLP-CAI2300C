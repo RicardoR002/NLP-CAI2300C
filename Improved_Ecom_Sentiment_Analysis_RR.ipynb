{
  "nbformat": 4,
  "nbformat_minor": 0,
  "metadata": {
    "colab": {
      "provenance": [],
      "authorship_tag": "ABX9TyNFkr3JdvwTgjUcqrzFHgXj",
      "include_colab_link": true
    },
    "kernelspec": {
      "name": "python3",
      "display_name": "Python 3"
    },
    "language_info": {
      "name": "python"
    }
  },
  "cells": [
    {
      "cell_type": "markdown",
      "metadata": {
        "id": "view-in-github",
        "colab_type": "text"
      },
      "source": [
        "<a href=\"https://colab.research.google.com/github/RicardoR002/NLP-CAI2300C/blob/main/Improved_Ecom_Sentiment_Analysis_RR.ipynb\" target=\"_parent\"><img src=\"https://colab.research.google.com/assets/colab-badge.svg\" alt=\"Open In Colab\"/></a>"
      ]
    },
    {
      "cell_type": "markdown",
      "source": [
        "## 1. Loading the Dataset\n",
        "\n",
        "This project examines customer reviews from a Women's Clothing E-Commerce dataset. It features nine supportive dimensions for comprehensive text analysis. Goal is to predict positive or negative sentiment based on the reviews.\n",
        "\n",
        "Ricardo Ruano CAI2300C"
      ],
      "metadata": {
        "id": "HzKJEUYK5V9I"
      }
    },
    {
      "cell_type": "code",
      "execution_count": 1,
      "metadata": {
        "colab": {
          "base_uri": "https://localhost:8080/",
          "height": 622
        },
        "id": "V3k0Oftv3PBd",
        "outputId": "794eea3a-6e8f-49ab-f324-f38b8b4ce31a"
      },
      "outputs": [
        {
          "output_type": "execute_result",
          "data": {
            "text/plain": [
              "       Unnamed: 0  Clothing ID  Age                  Title  \\\n",
              "863           863          886   29            Comfortable   \n",
              "4574         4574          820   58              Versatile   \n",
              "681           681         1087   62  Simple but different.   \n",
              "8299         8299         1078   54                    NaN   \n",
              "23344       23344         1110   25        Beautiful dress   \n",
              "\n",
              "                                             Review Text  Rating  \\\n",
              "863    Love this shirt! i bought the light blue color...       5   \n",
              "4574   I bought this shirt in a size 10. i am a 32 4d...       5   \n",
              "681    I bought this dress in the cream color. it was...       4   \n",
              "8299   Frumpy - looked like a nightgown on me; maybe ...       2   \n",
              "23344  This dress is great! it's easy to dress up or ...       5   \n",
              "\n",
              "       Recommended IND  Positive Feedback Count   Division Name  \\\n",
              "863                  1                        0  General Petite   \n",
              "4574                 1                        0         General   \n",
              "681                  1                        1         General   \n",
              "8299                 0                        0  General Petite   \n",
              "23344                1                        0  General Petite   \n",
              "\n",
              "      Department Name Class Name  \n",
              "863              Tops      Knits  \n",
              "4574             Tops    Blouses  \n",
              "681           Dresses    Dresses  \n",
              "8299          Dresses    Dresses  \n",
              "23344         Dresses    Dresses  "
            ],
            "text/html": [
              "\n",
              "  <div id=\"df-c6930975-1b07-4c18-9874-8c708f2f8857\" class=\"colab-df-container\">\n",
              "    <div>\n",
              "<style scoped>\n",
              "    .dataframe tbody tr th:only-of-type {\n",
              "        vertical-align: middle;\n",
              "    }\n",
              "\n",
              "    .dataframe tbody tr th {\n",
              "        vertical-align: top;\n",
              "    }\n",
              "\n",
              "    .dataframe thead th {\n",
              "        text-align: right;\n",
              "    }\n",
              "</style>\n",
              "<table border=\"1\" class=\"dataframe\">\n",
              "  <thead>\n",
              "    <tr style=\"text-align: right;\">\n",
              "      <th></th>\n",
              "      <th>Unnamed: 0</th>\n",
              "      <th>Clothing ID</th>\n",
              "      <th>Age</th>\n",
              "      <th>Title</th>\n",
              "      <th>Review Text</th>\n",
              "      <th>Rating</th>\n",
              "      <th>Recommended IND</th>\n",
              "      <th>Positive Feedback Count</th>\n",
              "      <th>Division Name</th>\n",
              "      <th>Department Name</th>\n",
              "      <th>Class Name</th>\n",
              "    </tr>\n",
              "  </thead>\n",
              "  <tbody>\n",
              "    <tr>\n",
              "      <th>863</th>\n",
              "      <td>863</td>\n",
              "      <td>886</td>\n",
              "      <td>29</td>\n",
              "      <td>Comfortable</td>\n",
              "      <td>Love this shirt! i bought the light blue color...</td>\n",
              "      <td>5</td>\n",
              "      <td>1</td>\n",
              "      <td>0</td>\n",
              "      <td>General Petite</td>\n",
              "      <td>Tops</td>\n",
              "      <td>Knits</td>\n",
              "    </tr>\n",
              "    <tr>\n",
              "      <th>4574</th>\n",
              "      <td>4574</td>\n",
              "      <td>820</td>\n",
              "      <td>58</td>\n",
              "      <td>Versatile</td>\n",
              "      <td>I bought this shirt in a size 10. i am a 32 4d...</td>\n",
              "      <td>5</td>\n",
              "      <td>1</td>\n",
              "      <td>0</td>\n",
              "      <td>General</td>\n",
              "      <td>Tops</td>\n",
              "      <td>Blouses</td>\n",
              "    </tr>\n",
              "    <tr>\n",
              "      <th>681</th>\n",
              "      <td>681</td>\n",
              "      <td>1087</td>\n",
              "      <td>62</td>\n",
              "      <td>Simple but different.</td>\n",
              "      <td>I bought this dress in the cream color. it was...</td>\n",
              "      <td>4</td>\n",
              "      <td>1</td>\n",
              "      <td>1</td>\n",
              "      <td>General</td>\n",
              "      <td>Dresses</td>\n",
              "      <td>Dresses</td>\n",
              "    </tr>\n",
              "    <tr>\n",
              "      <th>8299</th>\n",
              "      <td>8299</td>\n",
              "      <td>1078</td>\n",
              "      <td>54</td>\n",
              "      <td>NaN</td>\n",
              "      <td>Frumpy - looked like a nightgown on me; maybe ...</td>\n",
              "      <td>2</td>\n",
              "      <td>0</td>\n",
              "      <td>0</td>\n",
              "      <td>General Petite</td>\n",
              "      <td>Dresses</td>\n",
              "      <td>Dresses</td>\n",
              "    </tr>\n",
              "    <tr>\n",
              "      <th>23344</th>\n",
              "      <td>23344</td>\n",
              "      <td>1110</td>\n",
              "      <td>25</td>\n",
              "      <td>Beautiful dress</td>\n",
              "      <td>This dress is great! it's easy to dress up or ...</td>\n",
              "      <td>5</td>\n",
              "      <td>1</td>\n",
              "      <td>0</td>\n",
              "      <td>General Petite</td>\n",
              "      <td>Dresses</td>\n",
              "      <td>Dresses</td>\n",
              "    </tr>\n",
              "  </tbody>\n",
              "</table>\n",
              "</div>\n",
              "    <div class=\"colab-df-buttons\">\n",
              "\n",
              "  <div class=\"colab-df-container\">\n",
              "    <button class=\"colab-df-convert\" onclick=\"convertToInteractive('df-c6930975-1b07-4c18-9874-8c708f2f8857')\"\n",
              "            title=\"Convert this dataframe to an interactive table.\"\n",
              "            style=\"display:none;\">\n",
              "\n",
              "  <svg xmlns=\"http://www.w3.org/2000/svg\" height=\"24px\" viewBox=\"0 -960 960 960\">\n",
              "    <path d=\"M120-120v-720h720v720H120Zm60-500h600v-160H180v160Zm220 220h160v-160H400v160Zm0 220h160v-160H400v160ZM180-400h160v-160H180v160Zm440 0h160v-160H620v160ZM180-180h160v-160H180v160Zm440 0h160v-160H620v160Z\"/>\n",
              "  </svg>\n",
              "    </button>\n",
              "\n",
              "  <style>\n",
              "    .colab-df-container {\n",
              "      display:flex;\n",
              "      gap: 12px;\n",
              "    }\n",
              "\n",
              "    .colab-df-convert {\n",
              "      background-color: #E8F0FE;\n",
              "      border: none;\n",
              "      border-radius: 50%;\n",
              "      cursor: pointer;\n",
              "      display: none;\n",
              "      fill: #1967D2;\n",
              "      height: 32px;\n",
              "      padding: 0 0 0 0;\n",
              "      width: 32px;\n",
              "    }\n",
              "\n",
              "    .colab-df-convert:hover {\n",
              "      background-color: #E2EBFA;\n",
              "      box-shadow: 0px 1px 2px rgba(60, 64, 67, 0.3), 0px 1px 3px 1px rgba(60, 64, 67, 0.15);\n",
              "      fill: #174EA6;\n",
              "    }\n",
              "\n",
              "    .colab-df-buttons div {\n",
              "      margin-bottom: 4px;\n",
              "    }\n",
              "\n",
              "    [theme=dark] .colab-df-convert {\n",
              "      background-color: #3B4455;\n",
              "      fill: #D2E3FC;\n",
              "    }\n",
              "\n",
              "    [theme=dark] .colab-df-convert:hover {\n",
              "      background-color: #434B5C;\n",
              "      box-shadow: 0px 1px 3px 1px rgba(0, 0, 0, 0.15);\n",
              "      filter: drop-shadow(0px 1px 2px rgba(0, 0, 0, 0.3));\n",
              "      fill: #FFFFFF;\n",
              "    }\n",
              "  </style>\n",
              "\n",
              "    <script>\n",
              "      const buttonEl =\n",
              "        document.querySelector('#df-c6930975-1b07-4c18-9874-8c708f2f8857 button.colab-df-convert');\n",
              "      buttonEl.style.display =\n",
              "        google.colab.kernel.accessAllowed ? 'block' : 'none';\n",
              "\n",
              "      async function convertToInteractive(key) {\n",
              "        const element = document.querySelector('#df-c6930975-1b07-4c18-9874-8c708f2f8857');\n",
              "        const dataTable =\n",
              "          await google.colab.kernel.invokeFunction('convertToInteractive',\n",
              "                                                    [key], {});\n",
              "        if (!dataTable) return;\n",
              "\n",
              "        const docLinkHtml = 'Like what you see? Visit the ' +\n",
              "          '<a target=\"_blank\" href=https://colab.research.google.com/notebooks/data_table.ipynb>data table notebook</a>'\n",
              "          + ' to learn more about interactive tables.';\n",
              "        element.innerHTML = '';\n",
              "        dataTable['output_type'] = 'display_data';\n",
              "        await google.colab.output.renderOutput(dataTable, element);\n",
              "        const docLink = document.createElement('div');\n",
              "        docLink.innerHTML = docLinkHtml;\n",
              "        element.appendChild(docLink);\n",
              "      }\n",
              "    </script>\n",
              "  </div>\n",
              "\n",
              "\n",
              "<div id=\"df-50017171-2c08-4878-8357-0edcccbd50a1\">\n",
              "  <button class=\"colab-df-quickchart\" onclick=\"quickchart('df-50017171-2c08-4878-8357-0edcccbd50a1')\"\n",
              "            title=\"Suggest charts\"\n",
              "            style=\"display:none;\">\n",
              "\n",
              "<svg xmlns=\"http://www.w3.org/2000/svg\" height=\"24px\"viewBox=\"0 0 24 24\"\n",
              "     width=\"24px\">\n",
              "    <g>\n",
              "        <path d=\"M19 3H5c-1.1 0-2 .9-2 2v14c0 1.1.9 2 2 2h14c1.1 0 2-.9 2-2V5c0-1.1-.9-2-2-2zM9 17H7v-7h2v7zm4 0h-2V7h2v10zm4 0h-2v-4h2v4z\"/>\n",
              "    </g>\n",
              "</svg>\n",
              "  </button>\n",
              "\n",
              "<style>\n",
              "  .colab-df-quickchart {\n",
              "      --bg-color: #E8F0FE;\n",
              "      --fill-color: #1967D2;\n",
              "      --hover-bg-color: #E2EBFA;\n",
              "      --hover-fill-color: #174EA6;\n",
              "      --disabled-fill-color: #AAA;\n",
              "      --disabled-bg-color: #DDD;\n",
              "  }\n",
              "\n",
              "  [theme=dark] .colab-df-quickchart {\n",
              "      --bg-color: #3B4455;\n",
              "      --fill-color: #D2E3FC;\n",
              "      --hover-bg-color: #434B5C;\n",
              "      --hover-fill-color: #FFFFFF;\n",
              "      --disabled-bg-color: #3B4455;\n",
              "      --disabled-fill-color: #666;\n",
              "  }\n",
              "\n",
              "  .colab-df-quickchart {\n",
              "    background-color: var(--bg-color);\n",
              "    border: none;\n",
              "    border-radius: 50%;\n",
              "    cursor: pointer;\n",
              "    display: none;\n",
              "    fill: var(--fill-color);\n",
              "    height: 32px;\n",
              "    padding: 0;\n",
              "    width: 32px;\n",
              "  }\n",
              "\n",
              "  .colab-df-quickchart:hover {\n",
              "    background-color: var(--hover-bg-color);\n",
              "    box-shadow: 0 1px 2px rgba(60, 64, 67, 0.3), 0 1px 3px 1px rgba(60, 64, 67, 0.15);\n",
              "    fill: var(--button-hover-fill-color);\n",
              "  }\n",
              "\n",
              "  .colab-df-quickchart-complete:disabled,\n",
              "  .colab-df-quickchart-complete:disabled:hover {\n",
              "    background-color: var(--disabled-bg-color);\n",
              "    fill: var(--disabled-fill-color);\n",
              "    box-shadow: none;\n",
              "  }\n",
              "\n",
              "  .colab-df-spinner {\n",
              "    border: 2px solid var(--fill-color);\n",
              "    border-color: transparent;\n",
              "    border-bottom-color: var(--fill-color);\n",
              "    animation:\n",
              "      spin 1s steps(1) infinite;\n",
              "  }\n",
              "\n",
              "  @keyframes spin {\n",
              "    0% {\n",
              "      border-color: transparent;\n",
              "      border-bottom-color: var(--fill-color);\n",
              "      border-left-color: var(--fill-color);\n",
              "    }\n",
              "    20% {\n",
              "      border-color: transparent;\n",
              "      border-left-color: var(--fill-color);\n",
              "      border-top-color: var(--fill-color);\n",
              "    }\n",
              "    30% {\n",
              "      border-color: transparent;\n",
              "      border-left-color: var(--fill-color);\n",
              "      border-top-color: var(--fill-color);\n",
              "      border-right-color: var(--fill-color);\n",
              "    }\n",
              "    40% {\n",
              "      border-color: transparent;\n",
              "      border-right-color: var(--fill-color);\n",
              "      border-top-color: var(--fill-color);\n",
              "    }\n",
              "    60% {\n",
              "      border-color: transparent;\n",
              "      border-right-color: var(--fill-color);\n",
              "    }\n",
              "    80% {\n",
              "      border-color: transparent;\n",
              "      border-right-color: var(--fill-color);\n",
              "      border-bottom-color: var(--fill-color);\n",
              "    }\n",
              "    90% {\n",
              "      border-color: transparent;\n",
              "      border-bottom-color: var(--fill-color);\n",
              "    }\n",
              "  }\n",
              "</style>\n",
              "\n",
              "  <script>\n",
              "    async function quickchart(key) {\n",
              "      const quickchartButtonEl =\n",
              "        document.querySelector('#' + key + ' button');\n",
              "      quickchartButtonEl.disabled = true;  // To prevent multiple clicks.\n",
              "      quickchartButtonEl.classList.add('colab-df-spinner');\n",
              "      try {\n",
              "        const charts = await google.colab.kernel.invokeFunction(\n",
              "            'suggestCharts', [key], {});\n",
              "      } catch (error) {\n",
              "        console.error('Error during call to suggestCharts:', error);\n",
              "      }\n",
              "      quickchartButtonEl.classList.remove('colab-df-spinner');\n",
              "      quickchartButtonEl.classList.add('colab-df-quickchart-complete');\n",
              "    }\n",
              "    (() => {\n",
              "      let quickchartButtonEl =\n",
              "        document.querySelector('#df-50017171-2c08-4878-8357-0edcccbd50a1 button');\n",
              "      quickchartButtonEl.style.display =\n",
              "        google.colab.kernel.accessAllowed ? 'block' : 'none';\n",
              "    })();\n",
              "  </script>\n",
              "</div>\n",
              "\n",
              "    </div>\n",
              "  </div>\n"
            ],
            "application/vnd.google.colaboratory.intrinsic+json": {
              "type": "dataframe",
              "summary": "{\n  \"name\": \"df\",\n  \"rows\": 5,\n  \"fields\": [\n    {\n      \"column\": \"Unnamed: 0\",\n      \"properties\": {\n        \"dtype\": \"number\",\n        \"std\": 9364,\n        \"min\": 681,\n        \"max\": 23344,\n        \"num_unique_values\": 5,\n        \"samples\": [\n          4574,\n          23344,\n          681\n        ],\n        \"semantic_type\": \"\",\n        \"description\": \"\"\n      }\n    },\n    {\n      \"column\": \"Clothing ID\",\n      \"properties\": {\n        \"dtype\": \"number\",\n        \"std\": 133,\n        \"min\": 820,\n        \"max\": 1110,\n        \"num_unique_values\": 5,\n        \"samples\": [\n          820,\n          1110,\n          1087\n        ],\n        \"semantic_type\": \"\",\n        \"description\": \"\"\n      }\n    },\n    {\n      \"column\": \"Age\",\n      \"properties\": {\n        \"dtype\": \"number\",\n        \"std\": 17,\n        \"min\": 25,\n        \"max\": 62,\n        \"num_unique_values\": 5,\n        \"samples\": [\n          58,\n          25,\n          62\n        ],\n        \"semantic_type\": \"\",\n        \"description\": \"\"\n      }\n    },\n    {\n      \"column\": \"Title\",\n      \"properties\": {\n        \"dtype\": \"string\",\n        \"num_unique_values\": 4,\n        \"samples\": [\n          \"Versatile\",\n          \"Beautiful dress\",\n          \"Comfortable\"\n        ],\n        \"semantic_type\": \"\",\n        \"description\": \"\"\n      }\n    },\n    {\n      \"column\": \"Review Text\",\n      \"properties\": {\n        \"dtype\": \"string\",\n        \"num_unique_values\": 5,\n        \"samples\": [\n          \"I bought this shirt in a size 10. i am a 32 4d and it fit perfect, but wanted it to fit flowy as it does on the model...so sizing up to a 12. very nice quality fabric...not sure how it will be after it's washed. looks just like the picture. i bought the ivory color.\",\n          \"This dress is great! it's easy to dress up or down and is comfy!\",\n          \"I bought this dress in the cream color. it was sold out online in most sizes but i stumbled upon it in person and immediately had to have it. i'm usually xs or small, and bought the small. they did not have an xs available so i can't compare, but the small was flattering and comfortable. i'm 5'5\\\" 120 (34c) and it falls perfectly at my ankles (no dragging) and looks great with simple, neutral sandals. as some reviewers have mentioned it has some weight to it, so it's probably not great for hot da\"\n        ],\n        \"semantic_type\": \"\",\n        \"description\": \"\"\n      }\n    },\n    {\n      \"column\": \"Rating\",\n      \"properties\": {\n        \"dtype\": \"number\",\n        \"std\": 1,\n        \"min\": 2,\n        \"max\": 5,\n        \"num_unique_values\": 3,\n        \"samples\": [\n          5,\n          4,\n          2\n        ],\n        \"semantic_type\": \"\",\n        \"description\": \"\"\n      }\n    },\n    {\n      \"column\": \"Recommended IND\",\n      \"properties\": {\n        \"dtype\": \"number\",\n        \"std\": 0,\n        \"min\": 0,\n        \"max\": 1,\n        \"num_unique_values\": 2,\n        \"samples\": [\n          0,\n          1\n        ],\n        \"semantic_type\": \"\",\n        \"description\": \"\"\n      }\n    },\n    {\n      \"column\": \"Positive Feedback Count\",\n      \"properties\": {\n        \"dtype\": \"number\",\n        \"std\": 0,\n        \"min\": 0,\n        \"max\": 1,\n        \"num_unique_values\": 2,\n        \"samples\": [\n          1,\n          0\n        ],\n        \"semantic_type\": \"\",\n        \"description\": \"\"\n      }\n    },\n    {\n      \"column\": \"Division Name\",\n      \"properties\": {\n        \"dtype\": \"category\",\n        \"num_unique_values\": 2,\n        \"samples\": [\n          \"General\",\n          \"General Petite\"\n        ],\n        \"semantic_type\": \"\",\n        \"description\": \"\"\n      }\n    },\n    {\n      \"column\": \"Department Name\",\n      \"properties\": {\n        \"dtype\": \"category\",\n        \"num_unique_values\": 2,\n        \"samples\": [\n          \"Dresses\",\n          \"Tops\"\n        ],\n        \"semantic_type\": \"\",\n        \"description\": \"\"\n      }\n    },\n    {\n      \"column\": \"Class Name\",\n      \"properties\": {\n        \"dtype\": \"string\",\n        \"num_unique_values\": 3,\n        \"samples\": [\n          \"Knits\",\n          \"Blouses\"\n        ],\n        \"semantic_type\": \"\",\n        \"description\": \"\"\n      }\n    }\n  ]\n}"
            }
          },
          "metadata": {},
          "execution_count": 1
        }
      ],
      "source": [
        "import numpy as np\n",
        "import pandas as pd\n",
        "import re\n",
        "import matplotlib.pyplot as plt\n",
        "import seaborn as sns\n",
        "import tensorflow as tf\n",
        "from tensorflow.keras.preprocessing.text import Tokenizer\n",
        "from tensorflow.keras.preprocessing.sequence import pad_sequences\n",
        "from sklearn.model_selection import train_test_split\n",
        "from sklearn.metrics import classification_report, confusion_matrix\n",
        "\n",
        "# Load the dataset\n",
        "df = pd.read_csv('https://github.com/RicardoR002/Data/raw/refs/heads/main/Womens%20Clothing%20E-Commerce%20Reviews.csv')\n",
        "df.sample(5)"
      ]
    },
    {
      "cell_type": "code",
      "source": [
        "# Remove unnecessary columns\n",
        "del df['Unnamed: 0']"
      ],
      "metadata": {
        "id": "dQRfY1GhSn-M"
      },
      "execution_count": 2,
      "outputs": []
    },
    {
      "cell_type": "code",
      "source": [
        "# Print initial statistics\n",
        "print('Total number of reviews:', df.shape[0])\n",
        "print('Number of Duplicates:', len(df[df.duplicated()]))\n",
        "print('Number of Missing Values:', df.isnull().sum().sum())\n",
        "print('\\nMissing Values per column:')\n",
        "print(df.isnull().sum().sort_values(ascending=False))"
      ],
      "metadata": {
        "colab": {
          "base_uri": "https://localhost:8080/"
        },
        "id": "HWu3jNxFS1U5",
        "outputId": "020cfd07-510f-4d30-d198-771fd992e3db"
      },
      "execution_count": 3,
      "outputs": [
        {
          "output_type": "stream",
          "name": "stdout",
          "text": [
            "Total number of reviews: 23486\n",
            "Number of Duplicates: 21\n",
            "Number of Missing Values: 4697\n",
            "\n",
            "Missing Values per column:\n",
            "Title                      3810\n",
            "Review Text                 845\n",
            "Division Name                14\n",
            "Department Name              14\n",
            "Class Name                   14\n",
            "Clothing ID                   0\n",
            "Age                           0\n",
            "Rating                        0\n",
            "Recommended IND               0\n",
            "Positive Feedback Count       0\n",
            "dtype: int64\n"
          ]
        }
      ]
    },
    {
      "cell_type": "markdown",
      "source": [
        "## 2. Data Cleaning and Preprocessing"
      ],
      "metadata": {
        "id": "6XZgf9au6wyb"
      }
    },
    {
      "cell_type": "code",
      "source": [
        "# Remove rows with nulls except Title\n",
        "df = df.dropna(subset=['Review Text', 'Division Name', 'Department Name', 'Class Name'])\n",
        "\n",
        "# Enhanced text cleaning function\n",
        "def clean_text(text):\n",
        "    if isinstance(text, str):\n",
        "        # Remove HTML tags\n",
        "        text = re.sub(r'<.*?>', '', text)\n",
        "        # Remove non-alphabet characters\n",
        "        text = re.sub(r'[^a-zA-Z\\s]', '', text)\n",
        "        # Convert to lowercase\n",
        "        text = text.lower().strip()\n",
        "        # Remove extra whitespace\n",
        "        text = re.sub(r'\\s+', ' ', text)\n",
        "        # Remove very short words\n",
        "        text = ' '.join([word for word in text.split() if len(word) > 2])\n",
        "        return text\n",
        "    return ''\n",
        "\n",
        "# Feature Engineering\n",
        "df['review_length'] = df['Review Text'].str.len()\n",
        "df['word_count'] = df['Review Text'].str.split().str.len()\n",
        "\n",
        "# Combine Review Text with Title\n",
        "df['combined_text'] = df.apply(\n",
        "    lambda x: x['Title'] + ' ' + x['Review Text'] if pd.notnull(x['Title'])\n",
        "    else x['Review Text'], axis=1\n",
        ")\n",
        "\n",
        "# Clean the combined text\n",
        "df['combined_text'] = df['combined_text'].apply(clean_text)\n",
        "\n",
        "# Tokenization and padding\n",
        "MAX_WORDS = 10000\n",
        "MAX_LENGTH = 200\n",
        "\n",
        "tokenizer = Tokenizer(num_words=MAX_WORDS, oov_token='<OOV>')\n",
        "tokenizer.fit_on_texts(df['combined_text'])\n",
        "sequences = tokenizer.texts_to_sequences(df['combined_text'])\n",
        "padded_sequences = pad_sequences(sequences, maxlen=MAX_LENGTH)\n"
      ],
      "metadata": {
        "colab": {
          "base_uri": "https://localhost:8080/"
        },
        "id": "OjSbjIMG_HFv",
        "outputId": "3e3594aa-5fc2-4fb7-ba30-b63073bcadcd",
        "collapsed": true
      },
      "execution_count": 4,
      "outputs": [
        {
          "output_type": "stream",
          "name": "stderr",
          "text": [
            "<ipython-input-4-0703f8a2b54b>:21: SettingWithCopyWarning: \n",
            "A value is trying to be set on a copy of a slice from a DataFrame.\n",
            "Try using .loc[row_indexer,col_indexer] = value instead\n",
            "\n",
            "See the caveats in the documentation: https://pandas.pydata.org/pandas-docs/stable/user_guide/indexing.html#returning-a-view-versus-a-copy\n",
            "  df['review_length'] = df['Review Text'].str.len()\n"
          ]
        }
      ]
    },
    {
      "cell_type": "markdown",
      "source": [
        "## 3. Split data into features and Target label (Recommended IND)"
      ],
      "metadata": {
        "id": "NPBz674G-AN4"
      }
    },
    {
      "cell_type": "code",
      "source": [
        "# Splitting the data into features (X) and labels (y)\n",
        "X = padded_sequences\n",
        "y = df['Recommended IND'].values"
      ],
      "metadata": {
        "id": "baOsLVOw74ND"
      },
      "execution_count": 5,
      "outputs": []
    },
    {
      "cell_type": "code",
      "source": [
        "# Handle class imbalance\n",
        "class_weights = dict(zip(\n",
        "    np.unique(y),\n",
        "    1 / np.bincount(y) * len(y) / 2\n",
        "))"
      ],
      "metadata": {
        "id": "ofaw4gklTeeD"
      },
      "execution_count": 6,
      "outputs": []
    },
    {
      "cell_type": "markdown",
      "source": [
        "## 4. Splitting the Data into Training and Testing Sets"
      ],
      "metadata": {
        "id": "QcujXZpZ9tOt"
      }
    },
    {
      "cell_type": "code",
      "source": [
        "# Train-test split\n",
        "X_train, X_test, y_train, y_test = train_test_split(\n",
        "    X, y, test_size=0.2, random_state=42, stratify=y\n",
        ")"
      ],
      "metadata": {
        "id": "odNn-VH09qi_"
      },
      "execution_count": 7,
      "outputs": []
    },
    {
      "cell_type": "markdown",
      "source": [
        "## 5. Building the Neural Network with TensorFlow"
      ],
      "metadata": {
        "id": "ZZQyZ3BT95_B"
      }
    },
    {
      "cell_type": "code",
      "source": [
        "# Create the improved model\n",
        "model = tf.keras.Sequential([\n",
        "    tf.keras.layers.Embedding(MAX_WORDS, 32, input_length=MAX_LENGTH),\n",
        "    tf.keras.layers.SpatialDropout1D(0.2),\n",
        "    tf.keras.layers.Bidirectional(tf.keras.layers.LSTM(64, return_sequences=True)),\n",
        "    tf.keras.layers.Bidirectional(tf.keras.layers.LSTM(32)),\n",
        "    tf.keras.layers.Dense(64, activation='relu'),\n",
        "    tf.keras.layers.Dropout(0.3),\n",
        "    tf.keras.layers.Dense(32, activation='relu'),\n",
        "    tf.keras.layers.Dense(1, activation='sigmoid')\n",
        "])\n",
        "\n",
        "# Compile the model\n",
        "model.compile(\n",
        "    loss='binary_crossentropy',\n",
        "    optimizer=tf.keras.optimizers.Adam(learning_rate=0.001),\n",
        "    metrics=['accuracy', tf.keras.metrics.AUC()]\n",
        ")\n",
        "\n",
        "# Callbacks\n",
        "early_stopping = tf.keras.callbacks.EarlyStopping(\n",
        "    monitor='val_loss',\n",
        "    patience=3,\n",
        "    restore_best_weights=True\n",
        ")\n",
        "\n",
        "lr_reducer = tf.keras.callbacks.ReduceLROnPlateau(\n",
        "    monitor='val_loss',\n",
        "    factor=0.5,\n",
        "    patience=2\n",
        ")\n",
        "\n",
        "# Train the model\n",
        "history = model.fit(\n",
        "    X_train,\n",
        "    y_train,\n",
        "    epochs=20,\n",
        "    batch_size=32,\n",
        "    validation_split=0.2,\n",
        "    class_weight=class_weights,\n",
        "    callbacks=[early_stopping, lr_reducer]\n",
        ")"
      ],
      "metadata": {
        "colab": {
          "base_uri": "https://localhost:8080/"
        },
        "id": "6EYSSsJz95SS",
        "outputId": "f666097a-7516-4d3c-97b1-c245342a58dc"
      },
      "execution_count": 8,
      "outputs": [
        {
          "output_type": "stream",
          "name": "stderr",
          "text": [
            "/usr/local/lib/python3.10/dist-packages/keras/src/layers/core/embedding.py:90: UserWarning: Argument `input_length` is deprecated. Just remove it.\n",
            "  warnings.warn(\n"
          ]
        },
        {
          "output_type": "stream",
          "name": "stdout",
          "text": [
            "Epoch 1/20\n",
            "\u001b[1m453/453\u001b[0m \u001b[32m━━━━━━━━━━━━━━━━━━━━\u001b[0m\u001b[37m\u001b[0m \u001b[1m175s\u001b[0m 366ms/step - accuracy: 0.6851 - auc: 0.7575 - loss: 0.5519 - val_accuracy: 0.8685 - val_auc: 0.9356 - val_loss: 0.2986 - learning_rate: 0.0010\n",
            "Epoch 2/20\n",
            "\u001b[1m453/453\u001b[0m \u001b[32m━━━━━━━━━━━━━━━━━━━━\u001b[0m\u001b[37m\u001b[0m \u001b[1m196s\u001b[0m 353ms/step - accuracy: 0.8869 - auc: 0.9537 - loss: 0.2634 - val_accuracy: 0.8492 - val_auc: 0.9432 - val_loss: 0.3769 - learning_rate: 0.0010\n",
            "Epoch 3/20\n",
            "\u001b[1m453/453\u001b[0m \u001b[32m━━━━━━━━━━━━━━━━━━━━\u001b[0m\u001b[37m\u001b[0m \u001b[1m204s\u001b[0m 358ms/step - accuracy: 0.9109 - auc: 0.9690 - loss: 0.2127 - val_accuracy: 0.8851 - val_auc: 0.9408 - val_loss: 0.3313 - learning_rate: 0.0010\n",
            "Epoch 4/20\n",
            "\u001b[1m453/453\u001b[0m \u001b[32m━━━━━━━━━━━━━━━━━━━━\u001b[0m\u001b[37m\u001b[0m \u001b[1m163s\u001b[0m 361ms/step - accuracy: 0.9407 - auc: 0.9815 - loss: 0.1466 - val_accuracy: 0.8785 - val_auc: 0.9395 - val_loss: 0.3516 - learning_rate: 5.0000e-04\n"
          ]
        }
      ]
    },
    {
      "cell_type": "markdown",
      "source": [
        "## 6. Visualizing Model Performance"
      ],
      "metadata": {
        "id": "2ACIhSn6-Lka"
      }
    },
    {
      "cell_type": "code",
      "source": [
        "# Plot training history\n",
        "plt.figure(figsize=(12, 4))\n",
        "\n",
        "# Accuracy plot\n",
        "plt.subplot(1, 2, 1)\n",
        "plt.plot(history.history['accuracy'], label='Training Accuracy')\n",
        "plt.plot(history.history['val_accuracy'], label='Validation Accuracy')\n",
        "plt.title('Model Accuracy')\n",
        "plt.xlabel('Epoch')\n",
        "plt.ylabel('Accuracy')\n",
        "plt.legend()\n",
        "\n",
        "# Loss plot\n",
        "plt.subplot(1, 2, 2)\n",
        "plt.plot(history.history['loss'], label='Training Loss')\n",
        "plt.plot(history.history['val_loss'], label='Validation Loss')\n",
        "plt.title('Model Loss')\n",
        "plt.xlabel('Epoch')\n",
        "plt.ylabel('Loss')\n",
        "plt.legend()\n",
        "\n",
        "plt.tight_layout()\n",
        "plt.show()"
      ],
      "metadata": {
        "colab": {
          "base_uri": "https://localhost:8080/",
          "height": 326
        },
        "id": "Q1oy5gHi-Qfs",
        "outputId": "670baa58-9bb8-4933-b118-3770872b1672"
      },
      "execution_count": 9,
      "outputs": [
        {
          "output_type": "display_data",
          "data": {
            "text/plain": [
              "<Figure size 1200x400 with 2 Axes>"
            ],
            "image/png": "[encoded data removed]"
          },
          "metadata": {}
        }
      ]
    },
    {
      "cell_type": "markdown",
      "source": [
        "## 7. Evaluating the Model"
      ],
      "metadata": {
        "id": "iBsmDLc5-StZ"
      }
    },
    {
      "cell_type": "code",
      "source": [
        "# Evaluate on test set\n",
        "test_loss, test_accuracy, test_auc = model.evaluate(X_test, y_test)\n",
        "print(f'\\nTest Accuracy: {test_accuracy:.4f}')\n",
        "print(f'Test AUC: {test_auc:.4f}')\n",
        "\n",
        "# Generate predictions\n",
        "y_pred = (model.predict(X_test) > 0.5).astype(int)\n",
        "\n",
        "# Print classification report\n",
        "print(\"\\nClassification Report:\")\n",
        "print(classification_report(y_test, y_pred))\n",
        "\n",
        "# Plot confusion matrix\n",
        "plt.figure(figsize=(8, 6))\n",
        "sns.heatmap(\n",
        "    confusion_matrix(y_test, y_pred),\n",
        "    annot=True,\n",
        "    fmt='d',\n",
        "    cmap='Blues'\n",
        ")\n",
        "plt.title('Confusion Matrix')\n",
        "plt.ylabel('True Label')\n",
        "plt.xlabel('Predicted Label')\n",
        "plt.show()"
      ],
      "metadata": {
        "colab": {
          "base_uri": "https://localhost:8080/",
          "height": 859
        },
        "id": "6Y_5bMBI-WCN",
        "outputId": "d4c027cf-4c69-4f88-b553-adfe0e2e98d2"
      },
      "execution_count": 10,
      "outputs": [
        {
          "output_type": "stream",
          "name": "stdout",
          "text": [
            "\u001b[1m142/142\u001b[0m \u001b[32m━━━━━━━━━━━━━━━━━━━━\u001b[0m\u001b[37m\u001b[0m \u001b[1m21s\u001b[0m 145ms/step - accuracy: 0.8774 - auc: 0.9365 - loss: 0.2911\n",
            "\n",
            "Test Accuracy: 0.8694\n",
            "Test AUC: 0.9327\n",
            "\u001b[1m142/142\u001b[0m \u001b[32m━━━━━━━━━━━━━━━━━━━━\u001b[0m\u001b[37m\u001b[0m \u001b[1m14s\u001b[0m 91ms/step\n",
            "\n",
            "Classification Report:\n",
            "              precision    recall  f1-score   support\n",
            "\n",
            "           0       0.60      0.86      0.70       820\n",
            "           1       0.96      0.87      0.92      3706\n",
            "\n",
            "    accuracy                           0.87      4526\n",
            "   macro avg       0.78      0.86      0.81      4526\n",
            "weighted avg       0.90      0.87      0.88      4526\n",
            "\n"
          ]
        },
        {
          "output_type": "display_data",
          "data": {
            "text/plain": [
              "<Figure size 800x600 with 2 Axes>"
            ],
            "image/png": "[encoded data removed]"
          },
          "metadata": {}
        }
      ]
    },
    {
      "cell_type": "markdown",
      "source": [
        "## 8. Making Predictions"
      ],
      "metadata": {
        "id": "aER7Xrg1-ZqA"
      }
    },
    {
      "cell_type": "code",
      "source": [
        "def predict_sentiment(review_text, model, tokenizer):\n",
        "    \"\"\"\n",
        "    Predict sentiment for a given review text.\n",
        "    Returns dictionary with original text, predicted sentiment, and confidence score.\n",
        "    \"\"\"\n",
        "    # Clean the text\n",
        "    cleaned_text = clean_text(review_text)\n",
        "\n",
        "    # Convert to sequence and pad\n",
        "    sequence = tokenizer.texts_to_sequences([cleaned_text])\n",
        "    padded = pad_sequences(sequence, maxlen=MAX_LENGTH)\n",
        "\n",
        "    # Get prediction probability\n",
        "    prediction = model.predict(padded)[0][0]\n",
        "\n",
        "    # Determine sentiment and confidence\n",
        "    sentiment = \"Positive\" if prediction > 0.5 else \"Negative\"\n",
        "    confidence = prediction if prediction > 0.5 else 1 - prediction\n",
        "\n",
        "    return {\n",
        "        'text': review_text,\n",
        "        'sentiment': sentiment,\n",
        "        'confidence': f\"{confidence * 100:.2f}%\",\n",
        "        'raw_score': prediction\n",
        "    }\n",
        "\n",
        "\"\"\"## 8. Test the Model with Sample Reviews\"\"\"\n",
        "# Test with sample reviews\n",
        "sample_reviews = [\n",
        "    \"The fit was perfect, soft and comfortable fabrics for sports\",\n",
        "    \"bad quality fabric, made my skin irritated\",\n",
        "    \"Decent product but a bit overpriced\",\n",
        "    \"Love this dress! The color is beautiful and the material is high quality\",\n",
        "    \"Sizing runs small, had to return it\"\n",
        "]\n",
        "\n",
        "print(\"\\nSample Predictions:\")\n",
        "for review in sample_reviews:\n",
        "    result = predict_sentiment(review, model, tokenizer)\n",
        "    print(f\"\\nReview: {result['text']}\")\n",
        "    print(f\"Sentiment: {result['sentiment']}\")\n",
        "    print(f\"Confidence: {result['confidence']}\")\n",
        "    print(f\"Raw Score: {result['raw_score']:.4f}\")\n"
      ],
      "metadata": {
        "colab": {
          "base_uri": "https://localhost:8080/"
        },
        "id": "R2K2o1_Y-bCo",
        "outputId": "bfed1b64-1bd5-4eee-f078-0aa26217bfca"
      },
      "execution_count": 11,
      "outputs": [
        {
          "output_type": "stream",
          "name": "stdout",
          "text": [
            "\n",
            "Sample Predictions:\n",
            "\u001b[1m1/1\u001b[0m \u001b[32m━━━━━━━━━━━━━━━━━━━━\u001b[0m\u001b[37m\u001b[0m \u001b[1m0s\u001b[0m 75ms/step\n",
            "\n",
            "Review: The fit was perfect, soft and comfortable fabrics for sports\n",
            "Sentiment: Positive\n",
            "Confidence: 94.85%\n",
            "Raw Score: 0.9485\n",
            "\u001b[1m1/1\u001b[0m \u001b[32m━━━━━━━━━━━━━━━━━━━━\u001b[0m\u001b[37m\u001b[0m \u001b[1m0s\u001b[0m 76ms/step\n",
            "\n",
            "Review: bad quality fabric, made my skin irritated\n",
            "Sentiment: Negative\n",
            "Confidence: 77.47%\n",
            "Raw Score: 0.2253\n",
            "\u001b[1m1/1\u001b[0m \u001b[32m━━━━━━━━━━━━━━━━━━━━\u001b[0m\u001b[37m\u001b[0m \u001b[1m0s\u001b[0m 74ms/step\n",
            "\n",
            "Review: Decent product but a bit overpriced\n",
            "Sentiment: Positive\n",
            "Confidence: 59.59%\n",
            "Raw Score: 0.5959\n",
            "\u001b[1m1/1\u001b[0m \u001b[32m━━━━━━━━━━━━━━━━━━━━\u001b[0m\u001b[37m\u001b[0m \u001b[1m0s\u001b[0m 74ms/step\n",
            "\n",
            "Review: Love this dress! The color is beautiful and the material is high quality\n",
            "Sentiment: Positive\n",
            "Confidence: 62.52%\n",
            "Raw Score: 0.6252\n",
            "\u001b[1m1/1\u001b[0m \u001b[32m━━━━━━━━━━━━━━━━━━━━\u001b[0m\u001b[37m\u001b[0m \u001b[1m0s\u001b[0m 86ms/step\n",
            "\n",
            "Review: Sizing runs small, had to return it\n",
            "Sentiment: Negative\n",
            "Confidence: 84.50%\n",
            "Raw Score: 0.1550\n"
          ]
        }
      ]
    },
    {
      "cell_type": "markdown",
      "source": [
        "##Key improvements in this version include:\n",
        "\n",
        "1.Enhanced text preprocessing with better cleaning.\n",
        "\n",
        "2.Feature engineering with review length and word count.\n",
        "3.Combined text from title and review.\n",
        "\n",
        "4.Improved model architecture with bidirectional LSTM and dropout layers.\n",
        "\n",
        "5.Class weights to handle imbalanced data.\n",
        "6.Better callbacks for training (early stopping and learning rate reduction).\n",
        "\n",
        "7.Comprehensive evaluation metrics including AUC score.\n",
        "\n",
        "8.Detailed visualization of training history.\n",
        "\n",
        "9.Enhanced prediction function with confidence scores"
      ],
      "metadata": {
        "id": "kuMkAKrRYsWl"
      }
    }
  ]
}