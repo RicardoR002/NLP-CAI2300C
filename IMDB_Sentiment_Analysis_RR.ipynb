{
  "nbformat": 4,
  "nbformat_minor": 0,
  "metadata": {
    "colab": {
      "provenance": [],
      "mount_file_id": "1_WqxpMVsqLmZ3DNt3pJXWkcRLRABkVA1",
      "authorship_tag": "ABX9TyOnuU5BL3P4vSB9uv82LCw1",
      "include_colab_link": true
    },
    "kernelspec": {
      "name": "python3",
      "display_name": "Python 3"
    },
    "language_info": {
      "name": "python"
    }
  },
  "cells": [
    {
      "cell_type": "markdown",
      "metadata": {
        "id": "view-in-github",
        "colab_type": "text"
      },
      "source": [
        "<a href=\"https://colab.research.google.com/github/RicardoR002/NLP-CAI2300C/blob/main/IMDB_Sentiment_Analysis_RR.ipynb\" target=\"_parent\"><img src=\"https://colab.research.google.com/assets/colab-badge.svg\" alt=\"Open In Colab\"/></a>"
      ]
    },
    {
      "cell_type": "markdown",
      "source": [
        "## 1. Loading the IMDB Dataset\n",
        "\n",
        "Ricardo Ruano CAI2300C"
      ],
      "metadata": {
        "id": "dEjbYf3GEXNU"
      }
    },
    {
      "cell_type": "code",
      "execution_count": null,
      "metadata": {
        "colab": {
          "base_uri": "https://localhost:8080/",
          "height": 206
        },
        "id": "5ET7-Vv9EJ6R",
        "outputId": "ffaa87f3-ef1b-428c-978f-b8b50fd8930b"
      },
      "outputs": [
        {
          "output_type": "execute_result",
          "data": {
            "text/plain": [
              "                                                  review sentiment\n",
              "25203  A truly excellent look at the world and the re...  positive\n",
              "48116  this is my first review on IMDb, i didn't real...  positive\n",
              "46100  One of the worst films I have ever seen! After...  negative\n",
              "17837  I thought this was a very good movie. It would...  positive\n",
              "41531  If you're looking for an original horror flick...  positive"
            ],
            "text/html": [
              "\n",
              "  <div id=\"df-3f667d4b-004d-414c-a48b-4426b92ed277\" class=\"colab-df-container\">\n",
              "    <div>\n",
              "<style scoped>\n",
              "    .dataframe tbody tr th:only-of-type {\n",
              "        vertical-align: middle;\n",
              "    }\n",
              "\n",
              "    .dataframe tbody tr th {\n",
              "        vertical-align: top;\n",
              "    }\n",
              "\n",
              "    .dataframe thead th {\n",
              "        text-align: right;\n",
              "    }\n",
              "</style>\n",
              "<table border=\"1\" class=\"dataframe\">\n",
              "  <thead>\n",
              "    <tr style=\"text-align: right;\">\n",
              "      <th></th>\n",
              "      <th>review</th>\n",
              "      <th>sentiment</th>\n",
              "    </tr>\n",
              "  </thead>\n",
              "  <tbody>\n",
              "    <tr>\n",
              "      <th>25203</th>\n",
              "      <td>A truly excellent look at the world and the re...</td>\n",
              "      <td>positive</td>\n",
              "    </tr>\n",
              "    <tr>\n",
              "      <th>48116</th>\n",
              "      <td>this is my first review on IMDb, i didn't real...</td>\n",
              "      <td>positive</td>\n",
              "    </tr>\n",
              "    <tr>\n",
              "      <th>46100</th>\n",
              "      <td>One of the worst films I have ever seen! After...</td>\n",
              "      <td>negative</td>\n",
              "    </tr>\n",
              "    <tr>\n",
              "      <th>17837</th>\n",
              "      <td>I thought this was a very good movie. It would...</td>\n",
              "      <td>positive</td>\n",
              "    </tr>\n",
              "    <tr>\n",
              "      <th>41531</th>\n",
              "      <td>If you're looking for an original horror flick...</td>\n",
              "      <td>positive</td>\n",
              "    </tr>\n",
              "  </tbody>\n",
              "</table>\n",
              "</div>\n",
              "    <div class=\"colab-df-buttons\">\n",
              "\n",
              "  <div class=\"colab-df-container\">\n",
              "    <button class=\"colab-df-convert\" onclick=\"convertToInteractive('df-3f667d4b-004d-414c-a48b-4426b92ed277')\"\n",
              "            title=\"Convert this dataframe to an interactive table.\"\n",
              "            style=\"display:none;\">\n",
              "\n",
              "  <svg xmlns=\"http://www.w3.org/2000/svg\" height=\"24px\" viewBox=\"0 -960 960 960\">\n",
              "    <path d=\"M120-120v-720h720v720H120Zm60-500h600v-160H180v160Zm220 220h160v-160H400v160Zm0 220h160v-160H400v160ZM180-400h160v-160H180v160Zm440 0h160v-160H620v160ZM180-180h160v-160H180v160Zm440 0h160v-160H620v160Z\"/>\n",
              "  </svg>\n",
              "    </button>\n",
              "\n",
              "  <style>\n",
              "    .colab-df-container {\n",
              "      display:flex;\n",
              "      gap: 12px;\n",
              "    }\n",
              "\n",
              "    .colab-df-convert {\n",
              "      background-color: #E8F0FE;\n",
              "      border: none;\n",
              "      border-radius: 50%;\n",
              "      cursor: pointer;\n",
              "      display: none;\n",
              "      fill: #1967D2;\n",
              "      height: 32px;\n",
              "      padding: 0 0 0 0;\n",
              "      width: 32px;\n",
              "    }\n",
              "\n",
              "    .colab-df-convert:hover {\n",
              "      background-color: #E2EBFA;\n",
              "      box-shadow: 0px 1px 2px rgba(60, 64, 67, 0.3), 0px 1px 3px 1px rgba(60, 64, 67, 0.15);\n",
              "      fill: #174EA6;\n",
              "    }\n",
              "\n",
              "    .colab-df-buttons div {\n",
              "      margin-bottom: 4px;\n",
              "    }\n",
              "\n",
              "    [theme=dark] .colab-df-convert {\n",
              "      background-color: #3B4455;\n",
              "      fill: #D2E3FC;\n",
              "    }\n",
              "\n",
              "    [theme=dark] .colab-df-convert:hover {\n",
              "      background-color: #434B5C;\n",
              "      box-shadow: 0px 1px 3px 1px rgba(0, 0, 0, 0.15);\n",
              "      filter: drop-shadow(0px 1px 2px rgba(0, 0, 0, 0.3));\n",
              "      fill: #FFFFFF;\n",
              "    }\n",
              "  </style>\n",
              "\n",
              "    <script>\n",
              "      const buttonEl =\n",
              "        document.querySelector('#df-3f667d4b-004d-414c-a48b-4426b92ed277 button.colab-df-convert');\n",
              "      buttonEl.style.display =\n",
              "        google.colab.kernel.accessAllowed ? 'block' : 'none';\n",
              "\n",
              "      async function convertToInteractive(key) {\n",
              "        const element = document.querySelector('#df-3f667d4b-004d-414c-a48b-4426b92ed277');\n",
              "        const dataTable =\n",
              "          await google.colab.kernel.invokeFunction('convertToInteractive',\n",
              "                                                    [key], {});\n",
              "        if (!dataTable) return;\n",
              "\n",
              "        const docLinkHtml = 'Like what you see? Visit the ' +\n",
              "          '<a target=\"_blank\" href=https://colab.research.google.com/notebooks/data_table.ipynb>data table notebook</a>'\n",
              "          + ' to learn more about interactive tables.';\n",
              "        element.innerHTML = '';\n",
              "        dataTable['output_type'] = 'display_data';\n",
              "        await google.colab.output.renderOutput(dataTable, element);\n",
              "        const docLink = document.createElement('div');\n",
              "        docLink.innerHTML = docLinkHtml;\n",
              "        element.appendChild(docLink);\n",
              "      }\n",
              "    </script>\n",
              "  </div>\n",
              "\n",
              "\n",
              "<div id=\"df-622351a4-f2d2-47dd-8a68-e19ab3f3b73c\">\n",
              "  <button class=\"colab-df-quickchart\" onclick=\"quickchart('df-622351a4-f2d2-47dd-8a68-e19ab3f3b73c')\"\n",
              "            title=\"Suggest charts\"\n",
              "            style=\"display:none;\">\n",
              "\n",
              "<svg xmlns=\"http://www.w3.org/2000/svg\" height=\"24px\"viewBox=\"0 0 24 24\"\n",
              "     width=\"24px\">\n",
              "    <g>\n",
              "        <path d=\"M19 3H5c-1.1 0-2 .9-2 2v14c0 1.1.9 2 2 2h14c1.1 0 2-.9 2-2V5c0-1.1-.9-2-2-2zM9 17H7v-7h2v7zm4 0h-2V7h2v10zm4 0h-2v-4h2v4z\"/>\n",
              "    </g>\n",
              "</svg>\n",
              "  </button>\n",
              "\n",
              "<style>\n",
              "  .colab-df-quickchart {\n",
              "      --bg-color: #E8F0FE;\n",
              "      --fill-color: #1967D2;\n",
              "      --hover-bg-color: #E2EBFA;\n",
              "      --hover-fill-color: #174EA6;\n",
              "      --disabled-fill-color: #AAA;\n",
              "      --disabled-bg-color: #DDD;\n",
              "  }\n",
              "\n",
              "  [theme=dark] .colab-df-quickchart {\n",
              "      --bg-color: #3B4455;\n",
              "      --fill-color: #D2E3FC;\n",
              "      --hover-bg-color: #434B5C;\n",
              "      --hover-fill-color: #FFFFFF;\n",
              "      --disabled-bg-color: #3B4455;\n",
              "      --disabled-fill-color: #666;\n",
              "  }\n",
              "\n",
              "  .colab-df-quickchart {\n",
              "    background-color: var(--bg-color);\n",
              "    border: none;\n",
              "    border-radius: 50%;\n",
              "    cursor: pointer;\n",
              "    display: none;\n",
              "    fill: var(--fill-color);\n",
              "    height: 32px;\n",
              "    padding: 0;\n",
              "    width: 32px;\n",
              "  }\n",
              "\n",
              "  .colab-df-quickchart:hover {\n",
              "    background-color: var(--hover-bg-color);\n",
              "    box-shadow: 0 1px 2px rgba(60, 64, 67, 0.3), 0 1px 3px 1px rgba(60, 64, 67, 0.15);\n",
              "    fill: var(--button-hover-fill-color);\n",
              "  }\n",
              "\n",
              "  .colab-df-quickchart-complete:disabled,\n",
              "  .colab-df-quickchart-complete:disabled:hover {\n",
              "    background-color: var(--disabled-bg-color);\n",
              "    fill: var(--disabled-fill-color);\n",
              "    box-shadow: none;\n",
              "  }\n",
              "\n",
              "  .colab-df-spinner {\n",
              "    border: 2px solid var(--fill-color);\n",
              "    border-color: transparent;\n",
              "    border-bottom-color: var(--fill-color);\n",
              "    animation:\n",
              "      spin 1s steps(1) infinite;\n",
              "  }\n",
              "\n",
              "  @keyframes spin {\n",
              "    0% {\n",
              "      border-color: transparent;\n",
              "      border-bottom-color: var(--fill-color);\n",
              "      border-left-color: var(--fill-color);\n",
              "    }\n",
              "    20% {\n",
              "      border-color: transparent;\n",
              "      border-left-color: var(--fill-color);\n",
              "      border-top-color: var(--fill-color);\n",
              "    }\n",
              "    30% {\n",
              "      border-color: transparent;\n",
              "      border-left-color: var(--fill-color);\n",
              "      border-top-color: var(--fill-color);\n",
              "      border-right-color: var(--fill-color);\n",
              "    }\n",
              "    40% {\n",
              "      border-color: transparent;\n",
              "      border-right-color: var(--fill-color);\n",
              "      border-top-color: var(--fill-color);\n",
              "    }\n",
              "    60% {\n",
              "      border-color: transparent;\n",
              "      border-right-color: var(--fill-color);\n",
              "    }\n",
              "    80% {\n",
              "      border-color: transparent;\n",
              "      border-right-color: var(--fill-color);\n",
              "      border-bottom-color: var(--fill-color);\n",
              "    }\n",
              "    90% {\n",
              "      border-color: transparent;\n",
              "      border-bottom-color: var(--fill-color);\n",
              "    }\n",
              "  }\n",
              "</style>\n",
              "\n",
              "  <script>\n",
              "    async function quickchart(key) {\n",
              "      const quickchartButtonEl =\n",
              "        document.querySelector('#' + key + ' button');\n",
              "      quickchartButtonEl.disabled = true;  // To prevent multiple clicks.\n",
              "      quickchartButtonEl.classList.add('colab-df-spinner');\n",
              "      try {\n",
              "        const charts = await google.colab.kernel.invokeFunction(\n",
              "            'suggestCharts', [key], {});\n",
              "      } catch (error) {\n",
              "        console.error('Error during call to suggestCharts:', error);\n",
              "      }\n",
              "      quickchartButtonEl.classList.remove('colab-df-spinner');\n",
              "      quickchartButtonEl.classList.add('colab-df-quickchart-complete');\n",
              "    }\n",
              "    (() => {\n",
              "      let quickchartButtonEl =\n",
              "        document.querySelector('#df-622351a4-f2d2-47dd-8a68-e19ab3f3b73c button');\n",
              "      quickchartButtonEl.style.display =\n",
              "        google.colab.kernel.accessAllowed ? 'block' : 'none';\n",
              "    })();\n",
              "  </script>\n",
              "</div>\n",
              "\n",
              "    </div>\n",
              "  </div>\n"
            ],
            "application/vnd.google.colaboratory.intrinsic+json": {
              "type": "dataframe",
              "summary": "{\n  \"name\": \"#  IMDB movie reviews dataset contains 50,000 movie reviews labeled as either positive or negative\",\n  \"rows\": 5,\n  \"fields\": [\n    {\n      \"column\": \"review\",\n      \"properties\": {\n        \"dtype\": \"string\",\n        \"num_unique_values\": 5,\n        \"samples\": [\n          \"this is my first review on IMDb, i didn't really want to write one but since there are only 2 for this great movie right now, i feel compelled to add my perspective...and no, i'm not associated to the movie makers in any way (yeah yeah how often did you here that before ;-) ) FYI i'm in my late 20s<br /><br />1st of all i have to admit i really like animated movies, because what you see is only limited by the imagination of the creators and they were pretty imaginative on this one. Not so much in terms of story but in achieving a very unique and imo fresh visual style. The characters look good but far from real and it works well for the movie, after all it's a fairytale-like world. But the backgrounds and the world in general is filled with awesome visuals that my jaw dropped several times while watching this. The blue, bunny-like mini-dragon steels the show and has easily some of the funniest moments of the movie, he is already an instant classic, much as Scrat from Ice Age. The story is not too surprising (a bunch of anti-heroes have to go out and slay the biggest dragon you can imagine) but who cares if the movie looks and sounds THAT good ;-) 1 thing i have to point out, imo the movie is not suited for VERY young children because it has some darker scenes in it and maybe frightening for kids under 6-8 i would say, these are only very few scenes but worth mentioning imo. Anyway i had a great time watching this and can't wait for it to hit the stores in high def to watch it over and over again just for the sheer beauty of it.<br /><br />8,5 for me\",\n          \"If you're looking for an original horror flick, this might be the one for you. It's strange and at times lingers on stupidity, but it's just such a good looking, nice sounding and original movie, it never fails, except maybe during the over long climax. \\\"Nightbreed\\\" is a must see for horror fans, or for fans of monster movie make-up.<br /><br />Boone (Craig Sheffer) has been having dreams of a town called Midian full of mutant creatures. In therapy, his psychiatrist Dr. Decker (horror director David Cronenberg) has come to the conclusion that Boone is a murderer, and gives him hallucinogenic pills, and tells him to turn himself in. After almost getting killed, Boone ends up at the hospital, where he runs into a mental patient who also knows about Midian, and tells Boone where to go. Midian, located in a graveyard, is inhabited by vile mutant creatures that don't let Boone in. After escaping with only a nasty bite, Boone is shot dead by the police, who were lead to his location by Dr. Decker. But Boone isn't dead. The bite causes him to live, and he goes off to Midian. Meanwhile, Boone's girlfriend Lori (Anne Bobby) tries to find Boone and get to the bottom of this. When Dr. Decker also finds out about this place, chaos ensues.<br /><br />The plot seems long and complicated, but it really isn't hard to understand. The plot, among other things, makes this movie really interesting. The make-up effects are astounding. The creatures look unique and amazing, and make this a very appealing film. To add to more senses appeal, we have a musical score by Danny Elfman, that is both lush and bouncy, and fits the film like a glove. The shots in the movie are also set up beautifully. The cinematography is lovely, and the movie sets up an atmosphere that is never broken. Even the acting is good, with the biggest surprise being director David Cronenberg giving a great, menacing performance as the man, who for one reason or another, wants to see Boone dead. It's odd for a horror film to be this well done.<br /><br />The problems with the movie...well there are a few, but the positives outweigh the negatives. The script features the occasional lame jokes to try and add some humor, but almost every one falls flat. The mutant creatures look great and for the most part are well acted, but sometimes it feels like they are just posing their awesome makeup for the camera. The worst part of the film would have to be the climax. It takes so long, and is just constant chaos. It's the portion of the film that moves from individual characters and nice tight knit shots, to fiery explosions from each direction and violence happening to characters we don't know or care about.<br /><br />Overall, this movie is amazing to look at. It's a well done horror film, but even with that said, it has the occasional failure in character's lines, and a messy climax. Nonetheless, this is one to check out.<br /><br />My rating: *** out of ****. 101 mins. R for strong violence and language.\",\n          \"One of the worst films I have ever seen! After watching it i walk out like, what happened? I am confused to this day, can someone explain that movie to me please? both the acting and picture quality are so bad ,you'll think you're watching someone's school project made with a home camcorder. First,I can not believe that how some people could give 10 star to this movie.Because,.it's unbelievably bad movie! This movie isn't scary at all! There is even no Typical horror clich\\u00e9s,too. The plot and acting of This movie was terrible. It's not,fantastic,surrealistic or horror,It's just hideously bad Turkish feature film.And finally there were a lot of unnecessary scenes and unnecessary characters. When I watch 'Gomeda' I fell into so hopeless,so sad for young Turkish movie maker.Please,please don't make 'cinema' like this!\"\n        ],\n        \"semantic_type\": \"\",\n        \"description\": \"\"\n      }\n    },\n    {\n      \"column\": \"sentiment\",\n      \"properties\": {\n        \"dtype\": \"category\",\n        \"num_unique_values\": 2,\n        \"samples\": [\n          \"negative\",\n          \"positive\"\n        ],\n        \"semantic_type\": \"\",\n        \"description\": \"\"\n      }\n    }\n  ]\n}"
            }
          },
          "metadata": {},
          "execution_count": 3
        }
      ],
      "source": [
        "import numpy as np\n",
        "import pandas as pd\n",
        "\n",
        "# Load the dataset\n",
        "df = pd.read_csv('/content/drive/MyDrive/CAI2300C/IMDB Dataset.csv')\n",
        "df.sample(5)\n",
        "\n",
        "#  IMDB movie reviews dataset contains 50,000 movie reviews labeled as either positive or negative."
      ]
    },
    {
      "cell_type": "markdown",
      "source": [
        "## 2. Data Cleaning and Preprocessing"
      ],
      "metadata": {
        "id": "qEeMSIjgFjR_"
      }
    },
    {
      "cell_type": "code",
      "source": [
        "# Remove special characters, convert everything to lowercase, and tokenize the text.\n",
        "# Text Cleaning and Tokenization\n",
        "import re\n",
        "from tensorflow.keras.preprocessing.text import Tokenizer\n",
        "from tensorflow.keras.preprocessing.sequence import pad_sequences\n",
        "\n",
        "# Function to clean text\n",
        "def clean_text(text):\n",
        "    text = re.sub(r'<.*?>', '', text)  # Remove HTML tags\n",
        "    text = re.sub(r'[^a-zA-Z\\s]', '', text)  # Remove non-alphabet characters\n",
        "    return text.lower().strip()\n",
        "\n",
        "# Clean the reviews\n",
        "df['review'] = df['review'].apply(clean_text)\n",
        "\n",
        "# Tokenization and padding\n",
        "tokenizer = Tokenizer(num_words=10000, oov_token='<OOV>')\n",
        "tokenizer.fit_on_texts(df['review'])\n",
        "sequences = tokenizer.texts_to_sequences(df['review'])\n",
        "padded_sequences = pad_sequences(sequences, maxlen=200)"
      ],
      "metadata": {
        "id": "kXsCvEz4Fmdu"
      },
      "execution_count": null,
      "outputs": []
    },
    {
      "cell_type": "markdown",
      "source": [
        "## 3. Converting Labels to Numeric Format"
      ],
      "metadata": {
        "id": "HQ_Lp7xDF5AI"
      }
    },
    {
      "cell_type": "code",
      "source": [
        "# We need to convert the positive and negative labels into binary values.\n",
        "# Convert sentiment labels to binary\n",
        "df['sentiment'] = df['sentiment'].apply(lambda x: 1 if x == 'positive' else 0)\n",
        "\n",
        "# Splitting the data into features (X) and labels (y)\n",
        "X = padded_sequences\n",
        "y = df['sentiment'].values"
      ],
      "metadata": {
        "id": "2dkChdr7F6Bp"
      },
      "execution_count": null,
      "outputs": []
    },
    {
      "cell_type": "markdown",
      "source": [
        "## 4. Splitting the Data into Training and Testing Sets"
      ],
      "metadata": {
        "id": "hDJQ5V41GLUG"
      }
    },
    {
      "cell_type": "code",
      "source": [
        "# We’ll use an 80:20 split to separate the data into training and testing sets.\n",
        "from sklearn.model_selection import train_test_split\n",
        "\n",
        "X_train, X_test, y_train, y_test = train_test_split(X, y, test_size=0.2, random_state=42)"
      ],
      "metadata": {
        "id": "cOU04F_KGMcZ"
      },
      "execution_count": null,
      "outputs": []
    },
    {
      "cell_type": "markdown",
      "source": [
        "## 5. Building the Neural Network with TensorFlow"
      ],
      "metadata": {
        "id": "cRq8sgBgGRh_"
      }
    },
    {
      "cell_type": "code",
      "source": [
        "# We’ll create a simple neural network with an Embedding layer, followed by two LSTM layers, and a Dense output layer.\n",
        "import tensorflow as tf\n",
        "\n",
        "model = tf.keras.Sequential([\n",
        "    tf.keras.layers.Embedding(10000, 16, input_length=200),\n",
        "    tf.keras.layers.LSTM(64, return_sequences=True),\n",
        "    tf.keras.layers.LSTM(32),\n",
        "    tf.keras.layers.Dense(24, activation='relu'),\n",
        "    tf.keras.layers.Dense(1, activation='sigmoid')\n",
        "])\n",
        "\n",
        "model.compile(\n",
        "    loss='binary_crossentropy',\n",
        "    optimizer='adam',\n",
        "    metrics=['accuracy']\n",
        ")\n",
        "\n",
        "history = model.fit(X_train, y_train, epochs=10, validation_split=0.2)"
      ],
      "metadata": {
        "colab": {
          "base_uri": "https://localhost:8080/"
        },
        "id": "W8FQ_m2vGUps",
        "outputId": "08435feb-d91c-41c3-b43a-1ddae394f267"
      },
      "execution_count": null,
      "outputs": [
        {
          "output_type": "stream",
          "name": "stderr",
          "text": [
            "/usr/local/lib/python3.10/dist-packages/keras/src/layers/core/embedding.py:90: UserWarning: Argument `input_length` is deprecated. Just remove it.\n",
            "  warnings.warn(\n"
          ]
        },
        {
          "output_type": "stream",
          "name": "stdout",
          "text": [
            "Epoch 1/10\n",
            "\u001b[1m1000/1000\u001b[0m \u001b[32m━━━━━━━━━━━━━━━━━━━━\u001b[0m\u001b[37m\u001b[0m \u001b[1m170s\u001b[0m 167ms/step - accuracy: 0.6852 - loss: 0.5806 - val_accuracy: 0.8244 - val_loss: 0.4028\n",
            "Epoch 2/10\n",
            "\u001b[1m1000/1000\u001b[0m \u001b[32m━━━━━━━━━━━━━━━━━━━━\u001b[0m\u001b[37m\u001b[0m \u001b[1m197s\u001b[0m 162ms/step - accuracy: 0.8435 - loss: 0.3738 - val_accuracy: 0.7941 - val_loss: 0.4465\n",
            "Epoch 3/10\n",
            "\u001b[1m1000/1000\u001b[0m \u001b[32m━━━━━━━━━━━━━━━━━━━━\u001b[0m\u001b[37m\u001b[0m \u001b[1m199s\u001b[0m 159ms/step - accuracy: 0.8801 - loss: 0.3003 - val_accuracy: 0.8577 - val_loss: 0.3408\n",
            "Epoch 4/10\n",
            "\u001b[1m1000/1000\u001b[0m \u001b[32m━━━━━━━━━━━━━━━━━━━━\u001b[0m\u001b[37m\u001b[0m \u001b[1m172s\u001b[0m 172ms/step - accuracy: 0.9029 - loss: 0.2523 - val_accuracy: 0.8687 - val_loss: 0.3273\n",
            "Epoch 5/10\n",
            "\u001b[1m1000/1000\u001b[0m \u001b[32m━━━━━━━━━━━━━━━━━━━━\u001b[0m\u001b[37m\u001b[0m \u001b[1m160s\u001b[0m 160ms/step - accuracy: 0.9251 - loss: 0.2083 - val_accuracy: 0.8677 - val_loss: 0.3405\n",
            "Epoch 6/10\n",
            "\u001b[1m1000/1000\u001b[0m \u001b[32m━━━━━━━━━━━━━━━━━━━━\u001b[0m\u001b[37m\u001b[0m \u001b[1m161s\u001b[0m 161ms/step - accuracy: 0.9379 - loss: 0.1759 - val_accuracy: 0.8644 - val_loss: 0.3838\n",
            "Epoch 7/10\n",
            "\u001b[1m1000/1000\u001b[0m \u001b[32m━━━━━━━━━━━━━━━━━━━━\u001b[0m\u001b[37m\u001b[0m \u001b[1m200s\u001b[0m 159ms/step - accuracy: 0.9512 - loss: 0.1428 - val_accuracy: 0.8650 - val_loss: 0.4333\n",
            "Epoch 8/10\n",
            "\u001b[1m1000/1000\u001b[0m \u001b[32m━━━━━━━━━━━━━━━━━━━━\u001b[0m\u001b[37m\u001b[0m \u001b[1m163s\u001b[0m 163ms/step - accuracy: 0.9628 - loss: 0.1102 - val_accuracy: 0.8571 - val_loss: 0.4034\n",
            "Epoch 9/10\n",
            "\u001b[1m1000/1000\u001b[0m \u001b[32m━━━━━━━━━━━━━━━━━━━━\u001b[0m\u001b[37m\u001b[0m \u001b[1m198s\u001b[0m 159ms/step - accuracy: 0.9720 - loss: 0.0904 - val_accuracy: 0.8614 - val_loss: 0.4588\n",
            "Epoch 10/10\n",
            "\u001b[1m1000/1000\u001b[0m \u001b[32m━━━━━━━━━━━━━━━━━━━━\u001b[0m\u001b[37m\u001b[0m \u001b[1m203s\u001b[0m 160ms/step - accuracy: 0.9789 - loss: 0.0698 - val_accuracy: 0.8576 - val_loss: 0.4696\n"
          ]
        }
      ]
    },
    {
      "cell_type": "markdown",
      "source": [
        "## 6. Visualizing Model Performance"
      ],
      "metadata": {
        "id": "S60DKjjnGfsy"
      }
    },
    {
      "cell_type": "code",
      "source": [
        "# We can use Matplotlib to plot the training and validation accuracy over epochs.\n",
        "import matplotlib.pyplot as plt\n",
        "\n",
        "plt.plot(history.history['accuracy'], label='Training Accuracy')\n",
        "plt.plot(history.history['val_accuracy'], label='Validation Accuracy')\n",
        "plt.xlabel('Epochs')\n",
        "plt.ylabel('Accuracy')\n",
        "plt.legend()\n",
        "plt.show()"
      ],
      "metadata": {
        "colab": {
          "base_uri": "https://localhost:8080/",
          "height": 449
        },
        "id": "jyUHJso1Ggxt",
        "outputId": "65b06d1f-1dec-44a6-b55e-0c258935844d"
      },
      "execution_count": null,
      "outputs": [
        {
          "output_type": "display_data",
          "data": {
            "text/plain": [
              "<Figure size 640x480 with 1 Axes>"
            ],
            "image/png": "[encoded data removed]"
          },
          "metadata": {}
        }
      ]
    },
    {
      "cell_type": "markdown",
      "source": [
        "## 7. Evaluating the Model"
      ],
      "metadata": {
        "id": "NlZGdCQDGl2f"
      }
    },
    {
      "cell_type": "code",
      "source": [
        "# Let’s evaluate our model on the test data to see how well it generalizes.\n",
        "test_loss, test_accuracy = model.evaluate(X_test, y_test)\n",
        "print(f'Test Accuracy: {test_accuracy:.2f}')"
      ],
      "metadata": {
        "colab": {
          "base_uri": "https://localhost:8080/"
        },
        "id": "1-2eYmzKGm0D",
        "outputId": "67d865ed-bab1-4dc8-ec4c-708765adf170"
      },
      "execution_count": null,
      "outputs": [
        {
          "output_type": "stream",
          "name": "stdout",
          "text": [
            "\u001b[1m313/313\u001b[0m \u001b[32m━━━━━━━━━━━━━━━━━━━━\u001b[0m\u001b[37m\u001b[0m \u001b[1m16s\u001b[0m 51ms/step - accuracy: 0.8532 - loss: 0.4647\n",
            "Test Accuracy: 0.86\n"
          ]
        }
      ]
    },
    {
      "cell_type": "markdown",
      "source": [
        "## 8. Making Predictions"
      ],
      "metadata": {
        "id": "Eob4ZpXAGtKd"
      }
    },
    {
      "cell_type": "code",
      "source": [
        "# We can use our model to predict the sentiment of new movie reviews.\n",
        "sample_reviews = [\n",
        "    \"I absolutely loved this movie! The plot was thrilling and the characters were so well developed.\",\n",
        "    \"The film was a disaster. Poor acting and a predictable storyline.\"\n",
        "]\n",
        "\n",
        "sample_sequences = tokenizer.texts_to_sequences(sample_reviews)\n",
        "sample_padded = pad_sequences(sample_sequences, maxlen=200)\n",
        "\n",
        "predictions = model.predict(sample_padded)\n",
        "print([\"Positive\" if prob > 0.5 else \"Negative\" for prob in predictions])"
      ],
      "metadata": {
        "colab": {
          "base_uri": "https://localhost:8080/"
        },
        "id": "_9kAivPjGuLq",
        "outputId": "c2e7f654-39ea-4681-905a-e16ff1d60fa0"
      },
      "execution_count": null,
      "outputs": [
        {
          "output_type": "stream",
          "name": "stdout",
          "text": [
            "\u001b[1m1/1\u001b[0m \u001b[32m━━━━━━━━━━━━━━━━━━━━\u001b[0m\u001b[37m\u001b[0m \u001b[1m1s\u001b[0m 555ms/step\n",
            "['Positive', 'Negative']\n"
          ]
        }
      ]
    }
  ]
}