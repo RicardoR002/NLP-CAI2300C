{
  "nbformat": 4,
  "nbformat_minor": 0,
  "metadata": {
    "colab": {
      "provenance": [],
      "authorship_tag": "ABX9TyOtYNQqE4eBwhEXXDXTjn4p",
      "include_colab_link": true
    },
    "kernelspec": {
      "name": "python3",
      "display_name": "Python 3"
    },
    "language_info": {
      "name": "python"
    }
  },
  "cells": [
    {
      "cell_type": "markdown",
      "metadata": {
        "id": "view-in-github",
        "colab_type": "text"
      },
      "source": [
        "<a href=\"https://colab.research.google.com/github/RicardoR002/NLP-CAI2300C/blob/main/Predicting_Heart_Disease_NN.ipynb\" target=\"_parent\"><img src=\"https://colab.research.google.com/assets/colab-badge.svg\" alt=\"Open In Colab\"/></a>"
      ]
    },
    {
      "cell_type": "markdown",
      "source": [
        "# Predicting Heart Disease Neural Network\n",
        "\n",
        "Ricardo Ruano CAI2300C"
      ],
      "metadata": {
        "id": "1kcPgi0_aJc9"
      }
    },
    {
      "cell_type": "markdown",
      "source": [
        "##  Dataset contains various health metrics and risk factors to predict whether a patient has heart disease."
      ],
      "metadata": {
        "id": "NXMqt2XqfFiK"
      }
    },
    {
      "cell_type": "markdown",
      "source": [
        "## Step 1: Explore and Preprocess the Data"
      ],
      "metadata": {
        "id": "VHmAqUuUaqLA"
      }
    },
    {
      "cell_type": "code",
      "source": [
        "import pandas as pd\n",
        "\n",
        "# Load the dataset\n",
        "df = pd.read_csv('https://github.com/RicardoR002/Data/raw/refs/heads/main/HeartDiseaseTrain-Test.csv')\n",
        "\n",
        "# Display the first few rows of the dataset\n",
        "print(df.head())\n",
        "\n",
        "# Display the column names\n",
        "print(df.columns)"
      ],
      "metadata": {
        "colab": {
          "base_uri": "https://localhost:8080/"
        },
        "id": "kR1itsKVaivY",
        "outputId": "ad8d72d8-e0e3-46b6-90cc-23ca057604eb"
      },
      "execution_count": 7,
      "outputs": [
        {
          "output_type": "stream",
          "name": "stdout",
          "text": [
            "   age     sex chest_pain_type  resting_blood_pressure  cholestoral  \\\n",
            "0   52    Male  Typical angina                     125          212   \n",
            "1   53    Male  Typical angina                     140          203   \n",
            "2   70    Male  Typical angina                     145          174   \n",
            "3   61    Male  Typical angina                     148          203   \n",
            "4   62  Female  Typical angina                     138          294   \n",
            "\n",
            "      fasting_blood_sugar               rest_ecg  Max_heart_rate  \\\n",
            "0    Lower than 120 mg/ml  ST-T wave abnormality             168   \n",
            "1  Greater than 120 mg/ml                 Normal             155   \n",
            "2    Lower than 120 mg/ml  ST-T wave abnormality             125   \n",
            "3    Lower than 120 mg/ml  ST-T wave abnormality             161   \n",
            "4  Greater than 120 mg/ml  ST-T wave abnormality             106   \n",
            "\n",
            "  exercise_induced_angina  oldpeak        slope vessels_colored_by_flourosopy  \\\n",
            "0                      No      1.0  Downsloping                           Two   \n",
            "1                     Yes      3.1    Upsloping                          Zero   \n",
            "2                     Yes      2.6    Upsloping                          Zero   \n",
            "3                      No      0.0  Downsloping                           One   \n",
            "4                      No      1.9         Flat                         Three   \n",
            "\n",
            "         thalassemia  target  \n",
            "0  Reversable Defect       0  \n",
            "1  Reversable Defect       0  \n",
            "2  Reversable Defect       0  \n",
            "3  Reversable Defect       0  \n",
            "4       Fixed Defect       0  \n",
            "Index(['age', 'sex', 'chest_pain_type', 'resting_blood_pressure',\n",
            "       'cholestoral', 'fasting_blood_sugar', 'rest_ecg', 'Max_heart_rate',\n",
            "       'exercise_induced_angina', 'oldpeak', 'slope',\n",
            "       'vessels_colored_by_flourosopy', 'thalassemia', 'target'],\n",
            "      dtype='object')\n"
          ]
        }
      ]
    },
    {
      "cell_type": "code",
      "source": [
        "df.info()"
      ],
      "metadata": {
        "colab": {
          "base_uri": "https://localhost:8080/"
        },
        "id": "GXJsvCnTrsVW",
        "outputId": "c63bcea8-61c3-41fe-fe95-6c4d06abefeb"
      },
      "execution_count": 8,
      "outputs": [
        {
          "output_type": "stream",
          "name": "stdout",
          "text": [
            "<class 'pandas.core.frame.DataFrame'>\n",
            "RangeIndex: 1025 entries, 0 to 1024\n",
            "Data columns (total 14 columns):\n",
            " #   Column                         Non-Null Count  Dtype  \n",
            "---  ------                         --------------  -----  \n",
            " 0   age                            1025 non-null   int64  \n",
            " 1   sex                            1025 non-null   object \n",
            " 2   chest_pain_type                1025 non-null   object \n",
            " 3   resting_blood_pressure         1025 non-null   int64  \n",
            " 4   cholestoral                    1025 non-null   int64  \n",
            " 5   fasting_blood_sugar            1025 non-null   object \n",
            " 6   rest_ecg                       1025 non-null   object \n",
            " 7   Max_heart_rate                 1025 non-null   int64  \n",
            " 8   exercise_induced_angina        1025 non-null   object \n",
            " 9   oldpeak                        1025 non-null   float64\n",
            " 10  slope                          1025 non-null   object \n",
            " 11  vessels_colored_by_flourosopy  1025 non-null   object \n",
            " 12  thalassemia                    1025 non-null   object \n",
            " 13  target                         1025 non-null   int64  \n",
            "dtypes: float64(1), int64(5), object(8)\n",
            "memory usage: 112.2+ KB\n"
          ]
        }
      ]
    },
    {
      "cell_type": "code",
      "source": [
        "# Check for missing values\n",
        "print(df.isnull().sum())"
      ],
      "metadata": {
        "colab": {
          "base_uri": "https://localhost:8080/"
        },
        "id": "pmuPoWMsrkqG",
        "outputId": "2f67b9c3-523f-4b5e-dc48-3eb0042f79f5"
      },
      "execution_count": 9,
      "outputs": [
        {
          "output_type": "stream",
          "name": "stdout",
          "text": [
            "age                              0\n",
            "sex                              0\n",
            "chest_pain_type                  0\n",
            "resting_blood_pressure           0\n",
            "cholestoral                      0\n",
            "fasting_blood_sugar              0\n",
            "rest_ecg                         0\n",
            "Max_heart_rate                   0\n",
            "exercise_induced_angina          0\n",
            "oldpeak                          0\n",
            "slope                            0\n",
            "vessels_colored_by_flourosopy    0\n",
            "thalassemia                      0\n",
            "target                           0\n",
            "dtype: int64\n"
          ]
        }
      ]
    },
    {
      "cell_type": "code",
      "source": [
        "from sklearn.preprocessing import LabelEncoder\n",
        "\n",
        "# Handle missing values if necessary\n",
        "df = df.dropna()\n",
        "\n",
        "# Separate input features and target variable\n",
        "X = df.drop(columns=['target'])  # 'class' is your target column\n",
        "y = df['target'].values\n",
        "\n",
        "# Encode the categorical features in X\n",
        "X = pd.get_dummies(X, drop_first=True)\n",
        "\n",
        "# Encode the binary target variable y\n",
        "label_encoder = LabelEncoder()\n",
        "y = label_encoder.fit_transform(y)  # use this for binary classification\n",
        "\n",
        "n_features = X.shape[1]\n",
        "# y will now be 0 for one class (e.g., 'good') and 1 for the other class (e.g., 'bad')"
      ],
      "metadata": {
        "id": "r5vcPXJIaokT"
      },
      "execution_count": 10,
      "outputs": []
    },
    {
      "cell_type": "markdown",
      "source": [
        "## Step 2: Split the Data"
      ],
      "metadata": {
        "id": "Dn6gmuJ8awHw"
      }
    },
    {
      "cell_type": "code",
      "source": [
        "from sklearn.model_selection import train_test_split\n",
        "\n",
        "# Split into train and test datasets\n",
        "X_train, X_test, y_train, y_test = train_test_split(X, y, test_size=0.33, random_state=42)"
      ],
      "metadata": {
        "id": "2SRKpT07ax11"
      },
      "execution_count": 11,
      "outputs": []
    },
    {
      "cell_type": "markdown",
      "source": [
        "## Step 3: Define and Compile the Model"
      ],
      "metadata": {
        "id": "_w7XQmuca2BW"
      }
    },
    {
      "cell_type": "code",
      "source": [
        "from tensorflow.keras import Sequential\n",
        "from tensorflow.keras.layers import Dense\n",
        "\n",
        "# Define the model\n",
        "model = Sequential()\n",
        "model.add(Dense(10, activation='relu', input_shape=(n_features,)))\n",
        "model.add(Dense(8, activation='relu'))\n",
        "model.add(Dense(1, activation='sigmoid'))\n",
        "\n",
        "# Compile the model\n",
        "model.compile(optimizer='adam', loss='binary_crossentropy', metrics=['accuracy'])"
      ],
      "metadata": {
        "colab": {
          "base_uri": "https://localhost:8080/"
        },
        "id": "90TxEsdYa29w",
        "outputId": "10007d0b-d497-451f-c263-5db0aea5217f"
      },
      "execution_count": 12,
      "outputs": [
        {
          "output_type": "stream",
          "name": "stderr",
          "text": [
            "/usr/local/lib/python3.10/dist-packages/keras/src/layers/core/dense.py:87: UserWarning: Do not pass an `input_shape`/`input_dim` argument to a layer. When using Sequential models, prefer using an `Input(shape)` object as the first layer in the model instead.\n",
            "  super().__init__(activity_regularizer=activity_regularizer, **kwargs)\n"
          ]
        }
      ]
    },
    {
      "cell_type": "markdown",
      "source": [
        "## Step 4: Fit the Model"
      ],
      "metadata": {
        "id": "s--Lnq92a6k4"
      }
    },
    {
      "cell_type": "code",
      "source": [
        "model.fit(X_train, y_train, epochs=150, batch_size=32, verbose=0)"
      ],
      "metadata": {
        "colab": {
          "base_uri": "https://localhost:8080/"
        },
        "id": "m4RS4NBaa7g5",
        "outputId": "49465758-8735-4162-e523-82ac3591217a"
      },
      "execution_count": 13,
      "outputs": [
        {
          "output_type": "execute_result",
          "data": {
            "text/plain": [
              "<keras.src.callbacks.history.History at 0x7e9dcfcab130>"
            ]
          },
          "metadata": {},
          "execution_count": 13
        }
      ]
    },
    {
      "cell_type": "markdown",
      "source": [
        "## Step 5: Evaluate the Model"
      ],
      "metadata": {
        "id": "CfLHU6s_a-9D"
      }
    },
    {
      "cell_type": "code",
      "source": [
        "loss, acc = model.evaluate(X_test, y_test, verbose=0)\n",
        "print('Test Accuracy: %.3f' % acc)"
      ],
      "metadata": {
        "colab": {
          "base_uri": "https://localhost:8080/"
        },
        "id": "V56FDx4Za_0z",
        "outputId": "a3df6ae7-2554-4de8-fc68-eba143c70589"
      },
      "execution_count": 14,
      "outputs": [
        {
          "output_type": "stream",
          "name": "stdout",
          "text": [
            "Test Accuracy: 0.808\n"
          ]
        }
      ]
    },
    {
      "cell_type": "markdown",
      "source": [
        "## Step 6: Make Predictions"
      ],
      "metadata": {
        "id": "6YxdZKLmbC3R"
      }
    },
    {
      "cell_type": "markdown",
      "source": [
        "# Making Predictions with Actual Data"
      ],
      "metadata": {
        "id": "Yoo-IAqVbH1a"
      }
    },
    {
      "cell_type": "markdown",
      "source": [
        "## Example Input Data (Row)"
      ],
      "metadata": {
        "id": "UcjSGaBcbMcT"
      }
    },
    {
      "cell_type": "code",
      "source": [
        "import numpy as np\n",
        "\n",
        "# Constructing the input row\n",
        "row = np.array([\n",
        "    63,  # 'age'\n",
        "    145,  # 'resting_blood_pressure'\n",
        "    233,  # 'cholesterol'\n",
        "    150,  # 'Max_heart_rate'\n",
        "    2.3,  # 'oldpeak'\n",
        "    1,  # 'sex_Male' (1 for Male, 0 for Female)\n",
        "    0,  # 'chest_pain_type_Atypical angina'\n",
        "    0,  # 'chest_pain_type_Non-anginal pain'\n",
        "    1,  # 'chest_pain_type_Typical angina'\n",
        "    0,  # 'fasting_blood_sugar_Lower than 120 mg/ml'\n",
        "    0,  # 'rest_ecg_No'\n",
        "    1,  # 'rest_ecg_ST wave abnormality'\n",
        "    0,  # 'exercise_induced_angina_Yes'\n",
        "    0,  # 'slope_Flat'\n",
        "    1,  # 'slope_Upsloping'\n",
        "    0,  # 'vessels_colored_by_flourosopy_One'\n",
        "    0,  # 'vessels_colored_by_flourosopy_Three'\n",
        "    1,  # 'vessels_colored_by_flourosopy_Two'\n",
        "    0,  # 'vessels_colored_by_flourosopy_Zero'\n",
        "    0,  # 'thalassemia_No'\n",
        "    1,  # 'thalassemia_Normal'\n",
        "    0   # 'thalassemia_Reversable Defect'\n",
        "]).reshape(1, -1)\n",
        "\n",
        "# Make the prediction\n",
        "yhat = model.predict(row)\n",
        "print('Predicted: %.3f' % yhat[0][0])"
      ],
      "metadata": {
        "colab": {
          "base_uri": "https://localhost:8080/"
        },
        "id": "1h1Ziz6abSLW",
        "outputId": "dc206c6e-ca37-49c8-e2bd-3b2e173fbea2"
      },
      "execution_count": 15,
      "outputs": [
        {
          "output_type": "stream",
          "name": "stdout",
          "text": [
            "\u001b[1m1/1\u001b[0m \u001b[32m━━━━━━━━━━━━━━━━━━━━\u001b[0m\u001b[37m\u001b[0m \u001b[1m0s\u001b[0m 52ms/step\n",
            "Predicted: 0.159\n"
          ]
        }
      ]
    },
    {
      "cell_type": "markdown",
      "source": [
        "## Making a Prediction\n"
      ],
      "metadata": {
        "id": "2Gj3CWyFbVYc"
      }
    },
    {
      "cell_type": "code",
      "source": [
        "yhat = model.predict([row])\n",
        "print('Predicted Probability: %.3f' % yhat[0][0])"
      ],
      "metadata": {
        "colab": {
          "base_uri": "https://localhost:8080/"
        },
        "id": "4wlR-ALxbWKy",
        "outputId": "26f8ed7a-3fe6-4a7b-a2fc-66cb1a8a7c77"
      },
      "execution_count": 16,
      "outputs": [
        {
          "output_type": "stream",
          "name": "stdout",
          "text": [
            "\u001b[1m1/1\u001b[0m \u001b[32m━━━━━━━━━━━━━━━━━━━━\u001b[0m\u001b[37m\u001b[0m \u001b[1m0s\u001b[0m 52ms/step\n",
            "Predicted Probability: 0.159\n"
          ]
        }
      ]
    }
  ]
}